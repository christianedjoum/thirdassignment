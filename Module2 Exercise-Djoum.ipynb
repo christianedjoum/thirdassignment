{
 "cells": [
  {
   "cell_type": "markdown",
   "metadata": {},
   "source": [
    "## Exercises\n",
    "### Write the pseudocode for these problems. \n",
    "\n",
    "#### Define the problem by constructing an IPO diagram showing input, output, and processing steps\n",
    "Ask yourself\n",
    "- What control structures (sequence, selection and repetition) are required?\n",
    "- What variables are required?\n",
    "\n",
    "Show a check of your solution with **test data** for at least **two valid test cases**\n",
    "If you use the numbers provided in the example then the correct pseudocode will calculate the same result.\n",
    "    "
   ]
  },
  {
   "cell_type": "markdown",
   "metadata": {},
   "source": [
    "#### 1. Find the average score\n",
    "A program is needed to prompt the user operator for exam scores, calculate the average score and display the result to the screen. The average score is calculated as the sum of the scores divided by the number of scores."
   ]
  },
  {
   "cell_type": "code",
   "execution_count": null,
   "metadata": {},
   "outputs": [],
   "source": [
    "BEGIN\n",
    "    n = 1\n",
    "    total = 0\n",
    "    numberOfScores= input(numberOfScores:'')\n",
    "    LOOP n <= numberOfScores:\n",
    "        score = input(score:'')\n",
    "        total = total + score\n",
    "        n = n + 1 \n",
    "    ENDLOOP\n",
    "    average_score = total/numberOfScores\n",
    "    print (average_score)\n",
    "END\n"
   ]
  },
  {
   "cell_type": "markdown",
   "metadata": {},
   "source": [
    "#### 2. How much water runs off a roof in a rain storm?\n",
    "To calculate the runoff from any given rainfall: Take the dimensions of the footprint of the roof and convert them to inches. (So, a 50' x 20' roof is 600\" x 240\"). Multiply the roof dimensions by the number of inches of rainfall. As an example, 600\" x 240\" x 1\" = 144,000 cubic inches of water for an inch of rainfall. Divide that result by 231 to get the number of gallons (because 1 gallon = 231 cubic inches). (144,000/231 = 623.38)."
   ]
  },
  {
   "cell_type": "code",
   "execution_count": null,
   "metadata": {},
   "outputs": [],
   "source": [
    "BEGIN\n",
    "    roof_length = input(roof_length:\"\")\n",
    "    roof_height = input(roof_height:\"\")\n",
    "    roof_length_inches = roof_length * 12 \n",
    "    roof_height_inches = roof_height * 12 \n",
    "    inches_of_water_per_inch = (roof_length_inches) * (roof_height_inches) * (inches_of_rainfall)\n",
    "    number_of_gallons = inches_of_water_per_inch / 231\n",
    "END"
   ]
  },
  {
   "cell_type": "markdown",
   "metadata": {},
   "source": [
    "#### 3. Process customer record\n",
    "A program is required to read a customer’s name, a purchase amount and a tax code. The tax code has been validated and will be one of the following: 0 tax exempt (0%) 1 state sales tax only (3%) 2 federal and state sales tax (5%) 3 special sales tax (7%) The program must then compute the sales tax and the total amount due,and print the customer’s name, purchase amount, sales tax and total amount due."
   ]
  },
  {
   "cell_type": "code",
   "execution_count": null,
   "metadata": {},
   "outputs": [],
   "source": [
    "BEGIN\n",
    "    name = input(name:'')\n",
    "    purchase_amount = input(purchase:'')\n",
    "    tax_code = input(tax_code:'')\n",
    "    if tax_code = 1:\n",
    "        sales_tax = (0.03) * purchase_amount\n",
    "    else tax_code = 2:\n",
    "        sales_tax = (0.05) * purchase_amount\n",
    "    else tax_code = 3:\n",
    "        sales_tax = (0.07) * purchase_amount\n",
    "    else tax_code = 0:\n",
    "        sales_tax = 0\n",
    "    total_amount_due = purchase_amount + sales_tax\n",
    "    print name\n",
    "    print purchase_amount\n",
    "    print sales_tax\n",
    "    print total_amount_due\n",
    "END"
   ]
  },
  {
   "cell_type": "markdown",
   "metadata": {},
   "source": [
    "#### 4. Calculate employee's pay \n",
    "A program is required by a company to read an employee’s number, pay rate and the number of hours worked in a week. The program is then to validate the pay rate field and the hours worked field and, if valid, compute the employee’s weekly pay and then print it and the input data.\n",
    "\n",
    "Validation: According to the company’s rules, the maximum hours an employee can work per week is 60 hours, and the maximum hourly rate is $25.00 per hour. If the hours worked field or the hourly rate field is out of range, the input data and an appropriate message are to be printed and the employee’s weekly pay is not to be calculated.\n",
    "\n",
    "Weekly pay calculation: Weekly pay is calculated as hours worked times pay rate. If more than 35 hours are worked, payment for the overtime hours worked is calculated at time-and-a-half."
   ]
  },
  {
   "cell_type": "code",
   "execution_count": null,
   "metadata": {},
   "outputs": [],
   "source": [
    "BEGIN\n",
    "    employee_number = input(employee_number:\"\")\n",
    "    pay_rate = input(pay_rate:\"\")\n",
    "    number_of_hours = input(hours_worked:\"\")\n",
    "    if pay_rate > 25 or number_of_hours > 60:\n",
    "        print 'cant calculate the weekly pay for employee_number'\n",
    "    else number_of_hours < 60 and number_of_hours > 35:\n",
    "        over_time_hours = number_of_hours - 35\n",
    "        normal_pay = (number_of_hours - over_time_hours )  * pay_rate\n",
    "        over_time_pay = over_time_hours * (pay_rate + (pay_rate * .5))\n",
    "        weekly_pay = normal_pay + over_time_pay\n",
    "        print weekly_pay\n",
    "    else number_of_hours < 35:\n",
    "        weekly_pay = number_of_hours * pay_rate\n",
    "        print weekly_pay\n",
    "        \n",
    "END"
   ]
  }
 ],
 "metadata": {
  "kernelspec": {
   "display_name": "Python 3 (ipykernel)",
   "language": "python",
   "name": "python3"
  },
  "language_info": {
   "codemirror_mode": {
    "name": "ipython",
    "version": 3
   },
   "file_extension": ".py",
   "mimetype": "text/x-python",
   "name": "python",
   "nbconvert_exporter": "python",
   "pygments_lexer": "ipython3",
   "version": "3.9.7"
  }
 },
 "nbformat": 4,
 "nbformat_minor": 2
}
